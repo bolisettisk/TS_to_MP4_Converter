{
 "cells": [
  {
   "cell_type": "code",
   "execution_count": null,
   "id": "1eeaa66b",
   "metadata": {},
   "outputs": [],
   "source": [
    "def ts_mp4_converter():\n",
    "    import moviepy.editor as moviepy\n",
    "    import glob, os\n",
    "    \n",
    "    files = []\n",
    "    for file in glob.glob('*.ts'):\n",
    "        files.append(file)\n",
    "    for file in glob.glob('**/*.ts'):\n",
    "        files.append(file)\n",
    "    for file in glob.glob('**/**/*.ts'):\n",
    "        files.append(file)\n",
    "    for file in glob.glob('**/**/**/*.ts'):\n",
    "        files.append(file)\n",
    "        \n",
    "    for video in files:\n",
    "        if len(video.split('\\\\')) == 1:\n",
    "            input_file = video\n",
    "            output_file = '.'.join(video.split('.')[0:-1]) + '.mp4'\n",
    "        else:\n",
    "            path = '\\\\'.join(video.split('\\\\')[0:-1])\n",
    "            filename = video.split('\\\\')[-1]\n",
    "            input_file = path + '\\\\' + filename\n",
    "            output_file = path + '\\\\' + '.'.join(filename.split('.')[0:-1]) + '.mp4'\n",
    "        clip = moviepy.VideoFileClip(input_file)\n",
    "        clip.write_videofile(output_file)\n",
    "        os.remove(input_file)"
   ]
  },
  {
   "cell_type": "code",
   "execution_count": null,
   "id": "e2843d89",
   "metadata": {},
   "outputs": [],
   "source": [
    "ts_mp4_converter()"
   ]
  }
 ],
 "metadata": {
  "kernelspec": {
   "display_name": "Python 3 (ipykernel)",
   "language": "python",
   "name": "python3"
  },
  "language_info": {
   "codemirror_mode": {
    "name": "ipython",
    "version": 3
   },
   "file_extension": ".py",
   "mimetype": "text/x-python",
   "name": "python",
   "nbconvert_exporter": "python",
   "pygments_lexer": "ipython3",
   "version": "3.9.13"
  }
 },
 "nbformat": 4,
 "nbformat_minor": 5
}
