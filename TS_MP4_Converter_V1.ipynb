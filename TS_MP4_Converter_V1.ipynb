{
 "cells": [
  {
   "cell_type": "code",
   "execution_count": 1,
   "id": "e6cbebef",
   "metadata": {},
   "outputs": [],
   "source": [
    "import moviepy.editor as moviepy\n",
    "import glob, os\n",
    "\n",
    "def TS_MP4_Converter(path, Selection, Solo = 0, filename = \" \", delete_source = 0):\n",
    "    # Use Solo = 1 to convert a single file. filename must also be provided along with its extension in this case\n",
    "    # Use Selection = 0 to convert files in a specified directory\n",
    "    # Use Selection = 1 to convert files in a given directory and its sub-directories (three levels) \n",
    "    os.chdir(path)\n",
    "    files = []\n",
    "    if Solo == 0:\n",
    "        if Selection == 0:\n",
    "            for file in glob.glob('*.ts'):\n",
    "                files.append(file)\n",
    "        else:\n",
    "            for file in glob.glob('*.ts'):\n",
    "                files.append(file)\n",
    "            for file in glob.glob('**/*.ts'):\n",
    "                files.append(file)\n",
    "            for file in glob.glob('**/**/*.ts'):\n",
    "                files.append(file)\n",
    "            for file in glob.glob('**/**/**/*.ts'):\n",
    "                files.append(file)\n",
    "    elif Solo == 1:\n",
    "        files.append(filename)\n",
    "        \n",
    "    for video in files:        \n",
    "        if len(video.split('\\\\')) == 1:\n",
    "            input_file = video\n",
    "            output_file = '.'.join(video.split('.')[0:-1]) + '.mp4'\n",
    "        else:\n",
    "            path = '\\\\'.join(video.split('\\\\')[0:-1])\n",
    "            filename = video.split('\\\\')[-1]\n",
    "            input_file = path + '\\\\' + filename\n",
    "            output_file = path + '\\\\' + '.'.join(filename.split('.')[0:-1]) + '.mp4'     \n",
    "      \n",
    "        \n",
    "        clip = moviepy.VideoFileClip(input_file)\n",
    "# #         clip.write_videofile(output_file)\n",
    "        clip.write_videofile(output_file, codec='h264_nvenc')\n",
    "        if delete_source:\n",
    "            os.remove(input_file)"
   ]
  },
  {
   "cell_type": "code",
   "execution_count": 2,
   "id": "b199992c",
   "metadata": {},
   "outputs": [
    {
     "name": "stdout",
     "output_type": "stream",
     "text": [
      "Moviepy - Building video Dear David.mp4.\n",
      "MoviePy - Writing audio in Dear DavidTEMP_MPY_wvf_snd.mp3\n"
     ]
    },
    {
     "name": "stderr",
     "output_type": "stream",
     "text": [
      "                                                                                                                       \r"
     ]
    },
    {
     "name": "stdout",
     "output_type": "stream",
     "text": [
      "MoviePy - Done.\n",
      "Moviepy - Writing video Dear David.mp4\n",
      "\n"
     ]
    },
    {
     "name": "stderr",
     "output_type": "stream",
     "text": [
      "                                                                                                                       \r"
     ]
    },
    {
     "name": "stdout",
     "output_type": "stream",
     "text": [
      "Moviepy - Done !\n",
      "Moviepy - video ready Dear David.mp4\n",
      "Moviepy - Building video Gods of the Deep.mp4.\n",
      "MoviePy - Writing audio in Gods of the DeepTEMP_MPY_wvf_snd.mp3\n"
     ]
    },
    {
     "name": "stderr",
     "output_type": "stream",
     "text": [
      "                                                                                                                       \r"
     ]
    },
    {
     "name": "stdout",
     "output_type": "stream",
     "text": [
      "MoviePy - Done.\n",
      "Moviepy - Writing video Gods of the Deep.mp4\n",
      "\n"
     ]
    },
    {
     "name": "stderr",
     "output_type": "stream",
     "text": [
      "                                                                                                                       \r"
     ]
    },
    {
     "name": "stdout",
     "output_type": "stream",
     "text": [
      "Moviepy - Done !\n",
      "Moviepy - video ready Gods of the Deep.mp4\n"
     ]
    }
   ],
   "source": [
    "TS_MP4_Converter(\"C:\\\\Users\\\\SivaPrathi\\\\Downloads\\\\Video\\\\Movies\", 1, delete_source = 0)"
   ]
  },
  {
   "cell_type": "code",
   "execution_count": null,
   "id": "ea1672ee",
   "metadata": {},
   "outputs": [],
   "source": []
  }
 ],
 "metadata": {
  "kernelspec": {
   "display_name": "Python 3 (ipykernel)",
   "language": "python",
   "name": "python3"
  },
  "language_info": {
   "codemirror_mode": {
    "name": "ipython",
    "version": 3
   },
   "file_extension": ".py",
   "mimetype": "text/x-python",
   "name": "python",
   "nbconvert_exporter": "python",
   "pygments_lexer": "ipython3",
   "version": "3.11.4"
  }
 },
 "nbformat": 4,
 "nbformat_minor": 5
}
