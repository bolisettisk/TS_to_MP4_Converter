{
 "cells": [
  {
   "cell_type": "code",
   "execution_count": null,
   "id": "2e24164f",
   "metadata": {},
   "outputs": [],
   "source": [
    "# os.getcwd()"
   ]
  },
  {
   "cell_type": "code",
   "execution_count": 1,
   "id": "4c189308",
   "metadata": {},
   "outputs": [],
   "source": [
    "import moviepy.editor as moviepy\n",
    "import glob, os\n",
    "\n",
    "def TS_MP4_Converter(path, Selection, Solo = 0, filename = \" \"):\n",
    "    # Use Solo = 1 to convert a single file. filename must also be provided along with its extension in this case\n",
    "    # Use Selection = 0 to convert files in a specified directory\n",
    "    # Use Selection = 1 to convert files in a given directory and its sub-directories (three levels) \n",
    "    os.chdir(path)\n",
    "    files = []\n",
    "    if Solo == 0:\n",
    "        if Selection == 0:\n",
    "            for file in glob.glob('*.ts'):\n",
    "                files.append(file)\n",
    "        else:\n",
    "            for file in glob.glob('*.ts'):\n",
    "                files.append(file)\n",
    "            for file in glob.glob('**/*.ts'):\n",
    "                files.append(file)\n",
    "            for file in glob.glob('**/**/*.ts'):\n",
    "                files.append(file)\n",
    "            for file in glob.glob('**/**/**/*.ts'):\n",
    "                files.append(file)\n",
    "    elif Solo == 1:\n",
    "        files.append(filename)\n",
    "        \n",
    "    for video in files:        \n",
    "        if len(video.split('\\\\')) == 1:\n",
    "            input_file = video\n",
    "            output_file = '.'.join(video.split('.')[0:-1]) + '.mp4'\n",
    "        else:\n",
    "            path = '\\\\'.join(video.split('\\\\')[0:-1])\n",
    "            filename = video.split('\\\\')[-1]\n",
    "            input_file = path + '\\\\' + filename\n",
    "            output_file = path + '\\\\' + '.'.join(filename.split('.')[0:-1]) + '.mp4'     \n",
    "      \n",
    "        \n",
    "        clip = moviepy.VideoFileClip(input_file)\n",
    "# #         clip.write_videofile(output_file)\n",
    "        clip.write_videofile(output_file, codec='h264_nvenc')\n",
    "        os.remove(input_file)"
   ]
  },
  {
   "cell_type": "code",
   "execution_count": null,
   "id": "248ea841",
   "metadata": {},
   "outputs": [],
   "source": []
  },
  {
   "cell_type": "code",
   "execution_count": null,
   "id": "1d7b9633",
   "metadata": {},
   "outputs": [],
   "source": []
  },
  {
   "cell_type": "code",
   "execution_count": null,
   "id": "049249e0",
   "metadata": {},
   "outputs": [],
   "source": []
  }
 ],
 "metadata": {
  "kernelspec": {
   "display_name": "Python 3 (ipykernel)",
   "language": "python",
   "name": "python3"
  },
  "language_info": {
   "codemirror_mode": {
    "name": "ipython",
    "version": 3
   },
   "file_extension": ".py",
   "mimetype": "text/x-python",
   "name": "python",
   "nbconvert_exporter": "python",
   "pygments_lexer": "ipython3",
   "version": "3.11.4"
  }
 },
 "nbformat": 4,
 "nbformat_minor": 5
}
