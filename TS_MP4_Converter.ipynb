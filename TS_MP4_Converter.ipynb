{
 "cells": [
  {
   "cell_type": "code",
   "execution_count": null,
   "id": "2e24164f",
   "metadata": {},
   "outputs": [],
   "source": [
    "# os.getcwd()"
   ]
  },
  {
   "cell_type": "code",
   "execution_count": null,
   "id": "9d8bcef8",
   "metadata": {},
   "outputs": [],
   "source": [
    "import moviepy.editor as moviepy\n",
    "import glob, os\n",
    "\n",
    "def TS_MP4_Converter(path, Selection):\n",
    "    os.chdir(path)\n",
    "    files = []\n",
    "    if Selection == 0:\n",
    "        for file in glob.glob('*.ts'):\n",
    "            files.append(file)\n",
    "    else:\n",
    "        for file in glob.glob('*.ts'):\n",
    "            files.append(file)\n",
    "        for file in glob.glob('**/*.ts'):\n",
    "            files.append(file)\n",
    "        for file in glob.glob('**/**/*.ts'):\n",
    "            files.append(file)\n",
    "        for file in glob.glob('**/**/**/*.ts'):\n",
    "            files.append(file)\n",
    "        \n",
    "    for video in files:        \n",
    "        if len(video.split('\\\\')) == 1:\n",
    "            input_file = video\n",
    "            output_file = '.'.join(video.split('.')[0:-1]) + '.mp4'\n",
    "        else:\n",
    "            path = '\\\\'.join(video.split('\\\\')[0:-1])\n",
    "            filename = video.split('\\\\')[-1]\n",
    "            input_file = path + '\\\\' + filename\n",
    "            output_file = path + '\\\\' + '.'.join(filename.split('.')[0:-1]) + '.mp4'     \n",
    "      \n",
    "        \n",
    "        clip = moviepy.VideoFileClip(input_file)\n",
    "# #         clip.write_videofile(output_file)\n",
    "        clip.write_videofile(output_file, codec='h264_nvenc')\n",
    "# #         os.remove(input_file)"
   ]
  },
  {
   "cell_type": "code",
   "execution_count": null,
   "id": "586fadfd",
   "metadata": {},
   "outputs": [],
   "source": [
    "TS_MP4_Converter(\"C:\\\\Users\\SivaPrathi\\\\Documents\\\\Python MP4 Conversion Test\\\\New folder\", 0)"
   ]
  },
  {
   "cell_type": "code",
   "execution_count": null,
   "id": "23e8a7e0",
   "metadata": {},
   "outputs": [],
   "source": []
  },
  {
   "cell_type": "code",
   "execution_count": null,
   "id": "c0d0b428",
   "metadata": {},
   "outputs": [],
   "source": []
  },
  {
   "cell_type": "code",
   "execution_count": null,
   "id": "1f93531f",
   "metadata": {},
   "outputs": [],
   "source": [
    "# import moviepy.editor as moviepy\n",
    "# import glob, os\n",
    "\n",
    "# def TS_MP4_Converter(Destination_Path, Local_Path, Selection):\n",
    "#     os.chdir(Destination_Path)\n",
    "#     files = []\n",
    "#     if Selection == 0:\n",
    "#         for file in glob.glob('*.ts'):\n",
    "#             files.append(file)\n",
    "#     else:\n",
    "#         for file in glob.glob('*.ts'):\n",
    "#             files.append(file)\n",
    "#         for file in glob.glob('**/*.ts'):\n",
    "#             files.append(file)\n",
    "#         for file in glob.glob('**/**/*.ts'):\n",
    "#             files.append(file)\n",
    "#         for file in glob.glob('**/**/**/*.ts'):\n",
    "#             files.append(file)\n",
    "        \n",
    "#     for video in files:        \n",
    "#         if len(video.split('\\\\')) == 1:\n",
    "#             input_file = video\n",
    "#             output_file = '.'.join(video.split('.')[0:-1]) + '.mp4'\n",
    "#         else:\n",
    "#             path = '\\\\'.join(video.split('\\\\')[0:-1])\n",
    "#             filename = video.split('\\\\')[-1]\n",
    "#             input_file = path + '\\\\' + filename\n",
    "#             output_file = path + '\\\\' + '.'.join(filename.split('.')[0:-1]) + '.mp4'     \n",
    "    \n",
    "#         os.system(f\"cp '{Destination_Path}' '{Local_Path}'\")\n",
    "        \n",
    "#         clip = moviepy.VideoFileClip(input_file)\n",
    "# # #         clip.write_videofile(output_file)\n",
    "#         clip.write_videofile(output_file, codec='h264_nvenc')\n",
    "# # #         os.remove(input_file)"
   ]
  },
  {
   "cell_type": "code",
   "execution_count": null,
   "id": "1d7b9633",
   "metadata": {},
   "outputs": [],
   "source": []
  },
  {
   "cell_type": "code",
   "execution_count": null,
   "id": "049249e0",
   "metadata": {},
   "outputs": [],
   "source": []
  }
 ],
 "metadata": {
  "kernelspec": {
   "display_name": "Python 3 (ipykernel)",
   "language": "python",
   "name": "python3"
  },
  "language_info": {
   "codemirror_mode": {
    "name": "ipython",
    "version": 3
   },
   "file_extension": ".py",
   "mimetype": "text/x-python",
   "name": "python",
   "nbconvert_exporter": "python",
   "pygments_lexer": "ipython3",
   "version": "3.11.4"
  }
 },
 "nbformat": 4,
 "nbformat_minor": 5
}
